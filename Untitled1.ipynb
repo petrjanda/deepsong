{
 "cells": [
  {
   "cell_type": "code",
   "execution_count": 1,
   "metadata": {
    "collapsed": true
   },
   "outputs": [],
   "source": [
    "nn = require 'nn'\n",
    "npy4th = require 'npy4th'"
   ]
  },
  {
   "cell_type": "code",
   "execution_count": 2,
   "metadata": {
    "collapsed": false
   },
   "outputs": [],
   "source": [
    "wide = 512 -- 4096\n",
    "\n",
    "x = torch.Tensor(20, wide, 128)\n",
    "yt = torch.Tensor(20)\n",
    "i = 1\n",
    "\n",
    "for a in paths.iterdirs(\"spect/\") do\n",
    "    for s in paths.iterfiles(\"spect/\" .. a) do\n",
    "        input = npy4th.loadnpy('spect/' .. a .. '/' .. s)\n",
    "        x[i] = input:transpose(1, 2):resize(wide, 128)\n",
    "        yt[i] = a\n",
    "        i = i + 1\n",
    "    end\n",
    "end"
   ]
  },
  {
   "cell_type": "code",
   "execution_count": 34,
   "metadata": {
    "collapsed": false
   },
   "outputs": [],
   "source": [
    "s = wide * 30"
   ]
  },
  {
   "cell_type": "code",
   "execution_count": 35,
   "metadata": {
    "collapsed": false
   },
   "outputs": [],
   "source": [
    "model = nn.Sequential()\n",
    "\n",
    "model:add(nn.TemporalConvolution(128, 256, 4))\n",
    "model:add(nn.ReLU())\n",
    "model:add(nn.TemporalMaxPooling(1,4))\n",
    "\n",
    "model:add(nn.TemporalConvolution(256, 256, 4))\n",
    "model:add(nn.ReLU())\n",
    "model:add(nn.TemporalMaxPooling(1,2))\n",
    "\n",
    "model:add(nn.TemporalConvolution(256, 512, 4))\n",
    "model:add(nn.ReLU())\n",
    "model:add(nn.TemporalMaxPooling(1,2))\n",
    "\n",
    "model:add(nn.Reshape(s))\n",
    "model:add(nn.ReLU())\n",
    "model:add(nn.Linear(s, 2))\n",
    "model:add(nn.LogSoftMax())\n",
    "\n",
    "criterion= nn.ClassNLLCriterion()"
   ]
  },
  {
   "cell_type": "code",
   "execution_count": null,
   "metadata": {
    "collapsed": false
   },
   "outputs": [
    {
     "data": {
      "text/plain": [
       "epoch: 1\t\n",
       "loss: 0.65980749470528\t\n",
       "epoch: 2\t\n",
       "loss: 0.65971142029784\t\n",
       "epoch: 3\t\n",
       "loss: 0.65973050443581\t\n",
       "epoch: 4\t\n",
       "loss: 0.65972400034962\t\n",
       "epoch: 5\t\n",
       "loss: 0.65970261932588\t\n",
       "epoch: 6\t\n",
       "loss: 0.65967562182365\t\n",
       "epoch: 7\t\n",
       "loss: 0.65968341456413\t\n",
       "epoch: 8\t\n",
       "loss: 0.65965674131704\t\n",
       "epoch: 9\t\n",
       "loss: 0.65964229905597\t\n",
       "epoch: 10\t\n",
       "loss: 0.65963655771207\t\n",
       "epoch: 11\t\n",
       "loss: 0.65962952780385\t\n",
       "epoch: 12\t\n",
       "loss: 0.65963047304384\t\n",
       "epoch: 13\t\n",
       "loss: 0.65950148071104\t\n",
       "epoch: 14\t\n",
       "loss: 0.65957895307913\t\n",
       "epoch: 15\t\n",
       "loss: 0.65963239355245\t\n",
       "epoch: 16\t\n",
       "loss: 0.65962330662967\t\n",
       "epoch: 17\t\n",
       "loss: 0.65962012811887\t\n",
       "epoch: 18\t\n",
       "loss: 0.65958307817658\t\n",
       "epoch: 19\t\n"
      ]
     },
     "execution_count": 59,
     "metadata": {},
     "output_type": "execute_result"
    }
   ],
   "source": [
    "for e = 1, 100 do\n",
    "    print(\"epoch: \" .. e)\n",
    "    perm = torch.randperm(yt:size(1))\n",
    "    loss = 0\n",
    "    \n",
    "    for i = 1, yt:size(1) do\n",
    "        item = perm[{i}]\n",
    "        \n",
    "        y = model:forward(x[{{item}}])\n",
    "\n",
    "        local err=criterion:forward(y, yt[{item}])\n",
    "        loss = loss + err\n",
    "        local gradCriterion = criterion:backward(y,yt[{item}]);\n",
    "\n",
    "        model:zeroGradParameters()\n",
    "        model:backward(x[{{item}}], gradCriterion)\n",
    "        model:updateParameters(0.01)\n",
    "    end\n",
    "    \n",
    "    print(\"loss: \" .. loss / yt:size(1))\n",
    "end"
   ]
  },
  {
   "cell_type": "code",
   "execution_count": 45,
   "metadata": {
    "collapsed": false
   },
   "outputs": [
    {
     "data": {
      "text/plain": [
       "-0.7001 -0.6863\n",
       "[torch.DoubleTensor of size 1x2]\n",
       "\n"
      ]
     },
     "execution_count": 45,
     "metadata": {},
     "output_type": "execute_result"
    }
   ],
   "source": [
    "model:forward(x[{{15}}])"
   ]
  },
  {
   "cell_type": "code",
   "execution_count": 54,
   "metadata": {
    "collapsed": false
   },
   "outputs": [
    {
     "data": {
      "text/plain": [
       "10\t\n"
      ]
     },
     "execution_count": 54,
     "metadata": {},
     "output_type": "execute_result"
    }
   ],
   "source": [
    "torch.randperm(10)[{1}]"
   ]
  },
  {
   "cell_type": "code",
   "execution_count": null,
   "metadata": {
    "collapsed": true
   },
   "outputs": [],
   "source": []
  }
 ],
 "metadata": {
  "kernelspec": {
   "display_name": "iTorch",
   "language": "lua",
   "name": "itorch"
  },
  "language_info": {
   "name": "lua",
   "version": "20100"
  }
 },
 "nbformat": 4,
 "nbformat_minor": 0
}
